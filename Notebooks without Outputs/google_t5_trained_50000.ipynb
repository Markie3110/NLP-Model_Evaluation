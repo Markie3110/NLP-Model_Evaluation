{
  "metadata": {
    "kernelspec": {
      "display_name": "Python 3",
      "name": "python3"
    },
    "language_info": {
      "name": "python",
      "version": "3.10.12",
      "mimetype": "text/x-python",
      "codemirror_mode": {
        "name": "ipython",
        "version": 3
      },
      "pygments_lexer": "ipython3",
      "nbconvert_exporter": "python",
      "file_extension": ".py"
    },
    "kaggle": {
      "accelerator": "gpu",
      "dataSources": [],
      "dockerImageVersionId": 30840,
      "isInternetEnabled": true,
      "language": "python",
      "sourceType": "notebook",
      "isGpuEnabled": true
    },
    "colab": {
      "provenance": [],
      "gpuType": "T4"
    },
    "accelerator": "GPU"
  },
  "nbformat_minor": 0,
  "nbformat": 4,
  "cells": [
    {
      "cell_type": "code",
      "source": [
        "# Install the necessary libraries\n",
        "!pip install transformers datasets evaluate accelerate\n",
        "!pip install torch\n",
        "!pip install -U nltk\n",
        "!pip install sacrebleu\n",
        "!pip install wandb"
      ],
      "metadata": {
        "trusted": true,
        "id": "3UdYCWa_gHnM"
      },
      "outputs": [],
      "execution_count": null
    },
    {
      "cell_type": "code",
      "source": [
        "# Login to hugging face\n",
        "from huggingface_hub import notebook_login\n",
        "notebook_login()"
      ],
      "metadata": {
        "trusted": true,
        "id": "4mpgsQO_gHnO"
      },
      "outputs": [],
      "execution_count": null
    },
    {
      "cell_type": "code",
      "source": [
        "# Login to wandb\n",
        "import wandb\n",
        "wandb.login()"
      ],
      "metadata": {
        "trusted": true,
        "id": "MTAaqVGYgHnP"
      },
      "outputs": [],
      "execution_count": null
    },
    {
      "cell_type": "code",
      "source": [
        "# Import the necessary libraries\n",
        "from transformers import AutoTokenizer, AutoModelForSeq2SeqLM, pipeline, DataCollatorForSeq2Seq, AutoModelForSeq2SeqLM, Seq2SeqTrainingArguments, Seq2SeqTrainer\n",
        "from transformers import TrainingArguments, Trainer\n",
        "from datasets import load_dataset, Dataset\n",
        "import csv\n",
        "import evaluate\n",
        "import numpy as np\n",
        "import torch\n",
        "torch.cuda.is_available()"
      ],
      "metadata": {
        "trusted": true,
        "id": "6mtlZ3rLgHnP"
      },
      "outputs": [],
      "execution_count": null
    },
    {
      "cell_type": "code",
      "source": [
        "# Obtain the train and test datasets. Split the datasets for training.\n",
        "train_data = load_dataset(\"wmt16\", name=\"de-en\", split=\"train\")\n",
        "train_data = train_data.train_test_split(test_size=0.2)\n",
        "test_data = load_dataset(\"wmt16\", name=\"de-en\", split=\"test\")"
      ],
      "metadata": {
        "trusted": true,
        "id": "aVvI4sQcgHnP"
      },
      "outputs": [],
      "execution_count": null
    },
    {
      "cell_type": "code",
      "source": [
        "# Load the T5-model tokenizer\n",
        "checkpoint = \"google-t5/t5-small\"\n",
        "tokenizer = AutoTokenizer.from_pretrained(checkpoint)"
      ],
      "metadata": {
        "trusted": true,
        "id": "F91gAEw1gHnQ"
      },
      "outputs": [],
      "execution_count": null
    },
    {
      "cell_type": "code",
      "source": [
        "# Preprocess the training data\n",
        "source_lang = \"en\"\n",
        "target_lang = \"de\"\n",
        "prefix = \"translate English to German: \"\n",
        "\n",
        "\n",
        "def preprocess_function(examples):\n",
        "    inputs = [prefix + example[source_lang] for example in examples[\"translation\"]]\n",
        "    targets = [example[target_lang] for example in examples[\"translation\"]]\n",
        "    model_inputs = tokenizer(inputs, text_target=targets, max_length=128, truncation=True)\n",
        "    return model_inputs\n",
        "\n",
        "tokenized_data = train_data.map(preprocess_function, batched=True)"
      ],
      "metadata": {
        "trusted": true,
        "id": "ib5agewdgHnQ"
      },
      "outputs": [],
      "execution_count": null
    },
    {
      "cell_type": "code",
      "source": [
        "# Truncate the dataset\n",
        "small_train_dataset = tokenized_data[\"train\"].shuffle(seed=42).select(range(50000))\n",
        "small_test_dataset = tokenized_data[\"test\"].shuffle(seed=42).select(range(50000))"
      ],
      "metadata": {
        "trusted": true,
        "id": "QTINfHXLgHnQ"
      },
      "outputs": [],
      "execution_count": null
    },
    {
      "cell_type": "code",
      "source": [
        "# Pad the sentences\n",
        "data_collator = DataCollatorForSeq2Seq(tokenizer=tokenizer, model=checkpoint)"
      ],
      "metadata": {
        "trusted": true,
        "id": "s80a6YPegHnQ"
      },
      "outputs": [],
      "execution_count": null
    },
    {
      "cell_type": "code",
      "source": [
        "# Create a function to include the sacrebleu metric during training\n",
        "metric = evaluate.load(\"sacrebleu\")\n",
        "\n",
        "def postprocess_text(preds, labels):\n",
        "    preds = [pred.strip() for pred in preds]\n",
        "    labels = [[label.strip()] for label in labels]\n",
        "\n",
        "    return preds, labels\n",
        "\n",
        "\n",
        "def compute_metrics(eval_preds):\n",
        "    preds, labels = eval_preds\n",
        "    if isinstance(preds, tuple):\n",
        "        preds = preds[0]\n",
        "    decoded_preds = tokenizer.batch_decode(preds, skip_special_tokens=True)\n",
        "\n",
        "    labels = np.where(labels != -100, labels, tokenizer.pad_token_id)\n",
        "    decoded_labels = tokenizer.batch_decode(labels, skip_special_tokens=True)\n",
        "\n",
        "    decoded_preds, decoded_labels = postprocess_text(decoded_preds, decoded_labels)\n",
        "\n",
        "    result = metric.compute(predictions=decoded_preds, references=decoded_labels)\n",
        "    result = {\"bleu\": result[\"score\"]}\n",
        "\n",
        "    prediction_lens = [np.count_nonzero(pred != tokenizer.pad_token_id) for pred in preds]\n",
        "    result[\"gen_len\"] = np.mean(prediction_lens)\n",
        "    result = {k: round(v, 4) for k, v in result.items()}\n",
        "    return result"
      ],
      "metadata": {
        "trusted": true,
        "id": "rBL-1VJDgHnR"
      },
      "outputs": [],
      "execution_count": null
    },
    {
      "cell_type": "code",
      "source": [
        "# Load the T5 model\n",
        "model = AutoModelForSeq2SeqLM.from_pretrained(checkpoint, device_map=\"cuda\")\n",
        "# device = torch.device(\"cuda\") if torch.cuda.is_available() else torch.device(\"cpu\")\n",
        "# model = model.to(device)\n",
        "# device"
      ],
      "metadata": {
        "trusted": true,
        "id": "S90leDpQgHnR"
      },
      "outputs": [],
      "execution_count": null
    },
    {
      "cell_type": "code",
      "source": [
        "# Define the training hyperparameters and pass the training arguments\n",
        "training_args = Seq2SeqTrainingArguments(\n",
        "    output_dir=\"t5_trained_model\",\n",
        "    eval_strategy=\"epoch\",\n",
        "    learning_rate=2e-5,\n",
        "    per_device_train_batch_size=16,\n",
        "    per_device_eval_batch_size=16,\n",
        "    weight_decay=0.01,\n",
        "    save_total_limit=3,\n",
        "    num_train_epochs=2,\n",
        "    predict_with_generate=True,\n",
        "    fp16=True, #change to bf16=True for XPU\n",
        "    push_to_hub=True,\n",
        ")\n",
        "\n",
        "trainer = Seq2SeqTrainer(\n",
        "    model=model,\n",
        "    args=training_args,\n",
        "    train_dataset=small_train_dataset,\n",
        "    eval_dataset=small_test_dataset,\n",
        "    processing_class=tokenizer,\n",
        "    data_collator=data_collator,\n",
        "    compute_metrics=compute_metrics,\n",
        ")\n"
      ],
      "metadata": {
        "trusted": true,
        "id": "ZHdUepN7gHnR"
      },
      "outputs": [],
      "execution_count": null
    },
    {
      "cell_type": "code",
      "source": [
        "# Train the model\n",
        "trainer.train()"
      ],
      "metadata": {
        "trusted": true,
        "id": "XRMRdQRtgHnR"
      },
      "outputs": [],
      "execution_count": null
    },
    {
      "cell_type": "code",
      "source": [
        "# Push the model to the hugging face hub\n",
        "trainer.push_to_hub()"
      ],
      "metadata": {
        "trusted": true,
        "id": "aiEYhAVfgHnS"
      },
      "outputs": [],
      "execution_count": null
    },
    {
      "cell_type": "code",
      "source": [
        "# Import a pretrained google-t5 model and create a translator from the pipeline\n",
        "tokenizer = AutoTokenizer.from_pretrained(\"Markie-TheHenry/t5_trained_model\")\n",
        "model = AutoModelForSeq2SeqLM.from_pretrained(\"Markie-TheHenry/t5_trained_model\")\n",
        "translator = pipeline(\"translation_en_to_de\", model=model, tokenizer=tokenizer)"
      ],
      "metadata": {
        "trusted": true,
        "id": "3lc8k-iMgHnS"
      },
      "outputs": [],
      "execution_count": null
    },
    {
      "cell_type": "code",
      "source": [
        "# Translate the sentences (around 2K) in the dataset and write them into a file\n",
        "file = open('google_t5_trained_translation.csv', 'w')\n",
        "writer = csv.writer(file)\n",
        "writer.writerow(['Sample Input', 'Translation', 'Ground Truth'])\n",
        "for i in range(0, len(test_data)):\n",
        "    text = test_data[i][\"translation\"][\"en\"]\n",
        "    output = translator(text)\n",
        "    #print(output)\n",
        "    #print(output[0][\"translation_text\"])\n",
        "    prediction = output[0][\"translation_text\"]\n",
        "    ground_truth = test_data[i][\"translation\"][\"de\"]\n",
        "    row = [text, prediction, ground_truth]\n",
        "    writer.writerow(row)\n",
        "file.close()"
      ],
      "metadata": {
        "trusted": true,
        "id": "nLFOP-kPgHnS"
      },
      "outputs": [],
      "execution_count": null
    },
    {
      "cell_type": "code",
      "source": [
        "# Read the predictions and references from the created csv file\n",
        "filename = \"google_t5_trained_translation.csv\"\n",
        "predictions = []\n",
        "references = []\n",
        "with open(filename, 'r') as csvfile:\n",
        "    csvreader = csv.reader(csvfile)\n",
        "    i = 0\n",
        "    for row in csvreader:\n",
        "        if i == 0:\n",
        "            i = i + 1\n",
        "            continue\n",
        "        else:\n",
        "            predictions.append(row[1])\n",
        "            references.append(row[2])"
      ],
      "metadata": {
        "trusted": true,
        "id": "ow-OCVvWgHnS"
      },
      "outputs": [],
      "execution_count": null
    },
    {
      "cell_type": "code",
      "source": [
        "# Evaluate the bleu metric\n",
        "bleu = evaluate.load(\"bleu\")\n",
        "results = bleu.compute(predictions=predictions, references=references)\n",
        "print(\"Bleu Metric:\", results[\"bleu\"])"
      ],
      "metadata": {
        "trusted": true,
        "id": "_Y_cqteGgHnS"
      },
      "outputs": [],
      "execution_count": null
    },
    {
      "cell_type": "code",
      "source": [
        "# Evaluate the meteor metric\n",
        "meteor = evaluate.load('meteor')\n",
        "results = meteor.compute(predictions=predictions, references=references)\n",
        "print(\"Meteor Metric\", results['meteor'])"
      ],
      "metadata": {
        "trusted": true,
        "id": "ZRDySNVygHnS"
      },
      "outputs": [],
      "execution_count": null
    },
    {
      "cell_type": "code",
      "source": [
        " !nvidia-smi"
      ],
      "metadata": {
        "trusted": true,
        "id": "1QvRBm9NgHnT"
      },
      "outputs": [],
      "execution_count": null
    },
    {
      "cell_type": "code",
      "source": [],
      "metadata": {
        "trusted": true,
        "id": "gcxr4iTHgHnT"
      },
      "outputs": [],
      "execution_count": null
    }
  ]
}